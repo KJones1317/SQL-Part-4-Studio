{
    "metadata": {
        "kernelspec": {
            "name": "SQL",
            "display_name": "SQL",
            "language": "sql"
        },
        "language_info": {
            "name": "sql",
            "version": ""
        },
        "extensions": {
            "azuredatastudio": {
                "version": 1,
                "views": []
            }
        }
    },
    "nbformat_minor": 2,
    "nbformat": 4,
    "cells": [
        {
            "cell_type": "markdown",
            "source": [
                "# SQL Part 4 Studio\n",
                "\n",
                "For this studio, you will be working in small groups and using the BooksDB.  One group member should screen share while fellow group members code along in their own notebooks.  Each group member will submit a link to their studio notebook.\n",
                "\n",
                "You are back at the bookstore helping employees with their inventory of books.   Four employees need your help with finding books to create in-store displays.  Read their requests and decide if you want to use a correlated subquery, nested subquery, UNION operator, EXCEPT operator, or INTERSECT operator.  You may not use any joins or add multiple statements to the WHERE clause unless explicitly asked."
            ],
            "metadata": {
                "azdata_cell_guid": "3ea3f8a2-b444-4354-be8b-eebc139b3c13"
            },
            "attachments": {}
        },
        {
            "cell_type": "markdown",
            "source": [
                "## QUESTION 1:  Willow\n",
                "\n",
                "Willow wants a list of book titles that have multiple authors attributed to them.  Write a query to return her desired results."
            ],
            "metadata": {
                "azdata_cell_guid": "5c8b1c77-0878-4dc6-8e79-7f64e5e1df0d"
            },
            "attachments": {}
        },
        {
            "cell_type": "code",
            "source": [
                "-- Code here:\r\n",
                "/*USE BooksDB\r\n",
                "SELECT TOP 10 * --authors, title\r\n",
                "FROM books*/\r\n",
                "\r\n",
                "USE BooksDB\r\n",
                "SELECT TOP 10 authors, title\r\n",
                "FROM books\r\n",
                "WHERE authors LIKE '%,%'\r\n",
                ""
            ],
            "metadata": {
                "azdata_cell_guid": "46c76d2f-acbc-4fd2-9c2a-367044fda616",
                "tags": [],
                "language": "sql"
            },
            "outputs": [
                {
                    "output_type": "display_data",
                    "data": {
                        "text/html": "(10 rows affected)"
                    },
                    "metadata": {}
                },
                {
                    "output_type": "display_data",
                    "data": {
                        "text/html": "Total execution time: 00:00:00.066"
                    },
                    "metadata": {}
                },
                {
                    "output_type": "execute_result",
                    "metadata": {},
                    "execution_count": 2,
                    "data": {
                        "application/vnd.dataresource+json": {
                            "schema": {
                                "fields": [
                                    {
                                        "name": "authors"
                                    },
                                    {
                                        "name": "title"
                                    }
                                ]
                            },
                            "data": [
                                {
                                    "0": "J.K. Rowling, Mary GrandPré",
                                    "1": "Harry Potter and the Sorcerer's Stone (Harry Potter, #1)"
                                },
                                {
                                    "0": "George Orwell, Erich Fromm, Celâl Üster",
                                    "1": "1984"
                                },
                                {
                                    "0": "Anne Frank, Eleanor Roosevelt, B.M. Mooyaart-Doubleday",
                                    "1": "The Diary of a Young Girl"
                                },
                                {
                                    "0": "Stieg Larsson, Reg Keeland",
                                    "1": "The Girl with the Dragon Tattoo (Millennium, #1)"
                                },
                                {
                                    "0": "J.K. Rowling, Mary GrandPré, Rufus Beck",
                                    "1": "Harry Potter and the Prisoner of Azkaban (Harry Potter, #3)"
                                },
                                {
                                    "0": "J.K. Rowling, Mary GrandPré",
                                    "1": "Harry Potter and the Order of the Phoenix (Harry Potter, #5)"
                                },
                                {
                                    "0": "J.K. Rowling, Mary GrandPré",
                                    "1": "Harry Potter and the Chamber of Secrets (Harry Potter, #2)"
                                },
                                {
                                    "0": "J.K. Rowling, Mary GrandPré",
                                    "1": "Harry Potter and the Goblet of Fire (Harry Potter, #4)"
                                },
                                {
                                    "0": "J.K. Rowling, Mary GrandPré",
                                    "1": "Harry Potter and the Deathly Hallows (Harry Potter, #7)"
                                },
                                {
                                    "0": "J.K. Rowling, Mary GrandPré",
                                    "1": "Harry Potter and the Half-Blood Prince (Harry Potter, #6)"
                                }
                            ]
                        },
                        "text/html": [
                            "<table>",
                            "<tr><th>authors</th><th>title</th></tr>",
                            "<tr><td>J.K. Rowling, Mary GrandPré</td><td>Harry Potter and the Sorcerer's Stone (Harry Potter, #1)</td></tr>",
                            "<tr><td>George Orwell, Erich Fromm, Celâl Üster</td><td>1984</td></tr>",
                            "<tr><td>Anne Frank, Eleanor Roosevelt, B.M. Mooyaart-Doubleday</td><td>The Diary of a Young Girl</td></tr>",
                            "<tr><td>Stieg Larsson, Reg Keeland</td><td>The Girl with the Dragon Tattoo (Millennium, #1)</td></tr>",
                            "<tr><td>J.K. Rowling, Mary GrandPré, Rufus Beck</td><td>Harry Potter and the Prisoner of Azkaban (Harry Potter, #3)</td></tr>",
                            "<tr><td>J.K. Rowling, Mary GrandPré</td><td>Harry Potter and the Order of the Phoenix (Harry Potter, #5)</td></tr>",
                            "<tr><td>J.K. Rowling, Mary GrandPré</td><td>Harry Potter and the Chamber of Secrets (Harry Potter, #2)</td></tr>",
                            "<tr><td>J.K. Rowling, Mary GrandPré</td><td>Harry Potter and the Goblet of Fire (Harry Potter, #4)</td></tr>",
                            "<tr><td>J.K. Rowling, Mary GrandPré</td><td>Harry Potter and the Deathly Hallows (Harry Potter, #7)</td></tr>",
                            "<tr><td>J.K. Rowling, Mary GrandPré</td><td>Harry Potter and the Half-Blood Prince (Harry Potter, #6)</td></tr>",
                            "</table>"
                        ]
                    }
                }
            ],
            "execution_count": 2
        },
        {
            "cell_type": "markdown",
            "source": [
                "## QUESTION 2: Ira\n",
                "\n",
                "Ira was asked by a customer for titles that have been tagged \"Meditation\".  As you create a query for Ira, think about how the tables in BooksDB are organized as you write your query."
            ],
            "metadata": {
                "azdata_cell_guid": "06f2a08a-a54e-484e-8053-c74594da9db2"
            },
            "attachments": {}
        },
        {
            "cell_type": "code",
            "source": [
                "-- Code here:\r\n",
                "USE BooksDB\r\n",
                "SELECT title\r\n",
                "FROM books\r\n",
                "WHERE best_book_id = ANY\r\n",
                "    (SELECT goodreads_book_id\r\n",
                "    FROM book_tags\r\n",
                "    WHERE tag_id = ANY(\r\n",
                "        SELECT tag_id\r\n",
                "        FROM tags\r\n",
                "        WHERE tag_name = 'meditation'))"
            ],
            "metadata": {
                "azdata_cell_guid": "552924f9-a1cc-4979-8f53-15ba959550c2",
                "tags": [],
                "language": "sql"
            },
            "outputs": [
                {
                    "output_type": "display_data",
                    "data": {
                        "text/html": "(39 rows affected)"
                    },
                    "metadata": {}
                },
                {
                    "output_type": "display_data",
                    "data": {
                        "text/html": "Total execution time: 00:00:00.174"
                    },
                    "metadata": {}
                },
                {
                    "output_type": "execute_result",
                    "metadata": {},
                    "execution_count": 3,
                    "data": {
                        "application/vnd.dataresource+json": {
                            "schema": {
                                "fields": [
                                    {
                                        "name": "title"
                                    }
                                ]
                            },
                            "data": [
                                {
                                    "0": "A New Earth: Awakening to Your Life's Purpose"
                                },
                                {
                                    "0": "The Power of Now: A Guide to Spiritual Enlightenment"
                                },
                                {
                                    "0": "The Four Agreements: A Practical Guide to Personal Freedom"
                                },
                                {
                                    "0": "The Art of Happiness"
                                },
                                {
                                    "0": "Meditations"
                                },
                                {
                                    "0": "Way of the Peaceful Warrior: A Book That Changes Lives"
                                },
                                {
                                    "0": "Practicing the Power of Now: Essential Teachings, Meditations, and Exercises from the Power of Now"
                                },
                                {
                                    "0": "Autobiography of a Yogi"
                                },
                                {
                                    "0": "10% Happier: How I Tamed the Voice in My Head, Reduced Stress Without Losing My Edge, and Found Self-Help That Actually Works"
                                },
                                {
                                    "0": "The Seat of the Soul"
                                },
                                {
                                    "0": "The Teachings of Don Juan: A Yaqui Way of Knowledge "
                                },
                                {
                                    "0": "The Essential Rumi"
                                },
                                {
                                    "0": "Zen Mind, Beginner's Mind: Informal Talks on Zen Meditation and Practice"
                                },
                                {
                                    "0": "A Course in Miracles"
                                },
                                {
                                    "0": "The Power of Intention: Learning to Co-create Your World Your Way"
                                },
                                {
                                    "0": "The Practice of the Presence of God"
                                },
                                {
                                    "0": "Wherever You Go, There You Are: Mindfulness Meditation in Everyday Life"
                                },
                                {
                                    "0": "When Things Fall Apart: Heart Advice for Difficult Times"
                                },
                                {
                                    "0": "Be Here Now"
                                },
                                {
                                    "0": "Peace Is Every Step: The Path of Mindfulness in Everyday Life"
                                },
                                {
                                    "0": "Creative Visualization: Use the Power of Your Imagination to Create What You Want in Your Life"
                                },
                                {
                                    "0": "The Tibetan Book of Living and Dying"
                                },
                                {
                                    "0": "Zen of Seeing: Seeing/Drawing as Meditation"
                                },
                                {
                                    "0": "The Untethered Soul: The Journey Beyond Yourself"
                                },
                                {
                                    "0": "Waking Up: A Guide to Spirituality Without Religion"
                                },
                                {
                                    "0": "The I Ching or Book of Changes"
                                },
                                {
                                    "0": "The Happiness Hypothesis: Finding Modern Truth in Ancient Wisdom"
                                },
                                {
                                    "0": "Loving What Is: Four Questions That Can Change Your Life"
                                },
                                {
                                    "0": "The Imitation of Christ"
                                },
                                {
                                    "0": "The Miracle of Mindfulness: An Introduction to the Practice of Meditation"
                                },
                                {
                                    "0": "Care of the Soul: A Guide for Cultivating Depth and Sacredness in Everyday Life"
                                },
                                {
                                    "0": "Change Your Thoughts - Change Your Life: Living the Wisdom of the Tao"
                                },
                                {
                                    "0": "The Way of Zen"
                                },
                                {
                                    "0": "Living Buddha, Living Christ"
                                },
                                {
                                    "0": "Awakening the Buddha Within: Tibetan Wisdom for the Western World"
                                },
                                {
                                    "0": "The Book on the Taboo Against Knowing Who You Are"
                                },
                                {
                                    "0": "The Tenth Insight: Holding the Vision (Celestine Prophecy, #2)"
                                },
                                {
                                    "0": "Thrive: The Third Metric to Redefining Success and Creating a Life of Well-Being, Wisdom, and Wonder"
                                },
                                {
                                    "0": "The Places That Scare You: A Guide to Fearlessness in Difficult Times"
                                }
                            ]
                        },
                        "text/html": [
                            "<table>",
                            "<tr><th>title</th></tr>",
                            "<tr><td>A New Earth: Awakening to Your Life's Purpose</td></tr>",
                            "<tr><td>The Power of Now: A Guide to Spiritual Enlightenment</td></tr>",
                            "<tr><td>The Four Agreements: A Practical Guide to Personal Freedom</td></tr>",
                            "<tr><td>The Art of Happiness</td></tr>",
                            "<tr><td>Meditations</td></tr>",
                            "<tr><td>Way of the Peaceful Warrior: A Book That Changes Lives</td></tr>",
                            "<tr><td>Practicing the Power of Now: Essential Teachings, Meditations, and Exercises from the Power of Now</td></tr>",
                            "<tr><td>Autobiography of a Yogi</td></tr>",
                            "<tr><td>10% Happier: How I Tamed the Voice in My Head, Reduced Stress Without Losing My Edge, and Found Self-Help That Actually Works</td></tr>",
                            "<tr><td>The Seat of the Soul</td></tr>",
                            "<tr><td>The Teachings of Don Juan: A Yaqui Way of Knowledge </td></tr>",
                            "<tr><td>The Essential Rumi</td></tr>",
                            "<tr><td>Zen Mind, Beginner's Mind: Informal Talks on Zen Meditation and Practice</td></tr>",
                            "<tr><td>A Course in Miracles</td></tr>",
                            "<tr><td>The Power of Intention: Learning to Co-create Your World Your Way</td></tr>",
                            "<tr><td>The Practice of the Presence of God</td></tr>",
                            "<tr><td>Wherever You Go, There You Are: Mindfulness Meditation in Everyday Life</td></tr>",
                            "<tr><td>When Things Fall Apart: Heart Advice for Difficult Times</td></tr>",
                            "<tr><td>Be Here Now</td></tr>",
                            "<tr><td>Peace Is Every Step: The Path of Mindfulness in Everyday Life</td></tr>",
                            "<tr><td>Creative Visualization: Use the Power of Your Imagination to Create What You Want in Your Life</td></tr>",
                            "<tr><td>The Tibetan Book of Living and Dying</td></tr>",
                            "<tr><td>Zen of Seeing: Seeing/Drawing as Meditation</td></tr>",
                            "<tr><td>The Untethered Soul: The Journey Beyond Yourself</td></tr>",
                            "<tr><td>Waking Up: A Guide to Spirituality Without Religion</td></tr>",
                            "<tr><td>The I Ching or Book of Changes</td></tr>",
                            "<tr><td>The Happiness Hypothesis: Finding Modern Truth in Ancient Wisdom</td></tr>",
                            "<tr><td>Loving What Is: Four Questions That Can Change Your Life</td></tr>",
                            "<tr><td>The Imitation of Christ</td></tr>",
                            "<tr><td>The Miracle of Mindfulness: An Introduction to the Practice of Meditation</td></tr>",
                            "<tr><td>Care of the Soul: A Guide for Cultivating Depth and Sacredness in Everyday Life</td></tr>",
                            "<tr><td>Change Your Thoughts - Change Your Life: Living the Wisdom of the Tao</td></tr>",
                            "<tr><td>The Way of Zen</td></tr>",
                            "<tr><td>Living Buddha, Living Christ</td></tr>",
                            "<tr><td>Awakening the Buddha Within: Tibetan Wisdom for the Western World</td></tr>",
                            "<tr><td>The Book on the Taboo Against Knowing Who You Are</td></tr>",
                            "<tr><td>The Tenth Insight: Holding the Vision (Celestine Prophecy, #2)</td></tr>",
                            "<tr><td>Thrive: The Third Metric to Redefining Success and Creating a Life of Well-Being, Wisdom, and Wonder</td></tr>",
                            "<tr><td>The Places That Scare You: A Guide to Fearlessness in Difficult Times</td></tr>",
                            "</table>"
                        ]
                    }
                }
            ],
            "execution_count": 3
        },
        {
            "cell_type": "markdown",
            "source": [
                "## QUESTION 3:  Alyce\n",
                "\n",
                "Alyce wants to create a display of books with an average rating of 4.2 or higher, but she only wants books that share both title and original title.  Write a query that displays both the original title and title for Alyce, in descending order by rating.  Make sure that none of the original titles contain NULL values either."
            ],
            "metadata": {
                "azdata_cell_guid": "1d758d74-b4f0-4836-bdfe-d7280b5b4592"
            },
            "attachments": {}
        },
        {
            "cell_type": "code",
            "source": [
                "-- Code here:\r\n",
                "USE BooksDB\r\n",
                "SELECT TOP 25 title, original_title, average_rating \r\n",
                "from books b1 \r\n",
                "where average_rating >= 4.2 and \r\n",
                "b1.title = (Select original_title from books b2 \r\n",
                "            where b1.book_id = b2.book_id)\r\n",
                ""
            ],
            "metadata": {
                "azdata_cell_guid": "2c693b4e-6987-4c49-ba55-61094e677608",
                "tags": [],
                "language": "sql"
            },
            "outputs": [
                {
                    "output_type": "display_data",
                    "data": {
                        "text/html": "(25 rows affected)"
                    },
                    "metadata": {}
                },
                {
                    "output_type": "display_data",
                    "data": {
                        "text/html": "Total execution time: 00:00:00.367"
                    },
                    "metadata": {}
                },
                {
                    "output_type": "execute_result",
                    "metadata": {},
                    "execution_count": 12,
                    "data": {
                        "application/vnd.dataresource+json": {
                            "schema": {
                                "fields": [
                                    {
                                        "name": "title"
                                    },
                                    {
                                        "name": "original_title"
                                    },
                                    {
                                        "name": "average_rating"
                                    }
                                ]
                            },
                            "data": [
                                {
                                    "0": "To Kill a Mockingbird",
                                    "1": "To Kill a Mockingbird",
                                    "2": "4.25"
                                },
                                {
                                    "0": "The Fault in Our Stars",
                                    "1": "The Fault in Our Stars",
                                    "2": "4.26"
                                },
                                {
                                    "0": "Pride and Prejudice",
                                    "1": "Pride and Prejudice",
                                    "2": "4.24"
                                },
                                {
                                    "0": "The Kite Runner",
                                    "1": "The Kite Runner ",
                                    "2": "4.26"
                                },
                                {
                                    "0": "The Help",
                                    "1": "The Help",
                                    "2": "4.45"
                                },
                                {
                                    "0": "The Book Thief",
                                    "1": "The Book Thief",
                                    "2": "4.36"
                                },
                                {
                                    "0": "Gone with the Wind",
                                    "1": "Gone with the Wind",
                                    "2": "4.28"
                                },
                                {
                                    "0": "A Thousand Splendid Suns",
                                    "1": "A Thousand Splendid Suns",
                                    "2": "4.34"
                                },
                                {
                                    "0": "The Perks of Being a Wallflower",
                                    "1": "The Perks of Being a Wallflower",
                                    "2": "4.21"
                                },
                                {
                                    "0": "The Glass Castle",
                                    "1": "The Glass Castle",
                                    "2": "4.24"
                                },
                                {
                                    "0": "The Giving Tree",
                                    "1": "The Giving Tree",
                                    "2": "4.38"
                                },
                                {
                                    "0": "The Princess Bride ",
                                    "1": "The Princess Bride",
                                    "2": "4.25"
                                },
                                {
                                    "0": "Where the Wild Things Are",
                                    "1": "Where the Wild Things Are",
                                    "2": "4.22"
                                },
                                {
                                    "0": "The Martian",
                                    "1": "The Martian",
                                    "2": "4.39"
                                },
                                {
                                    "0": "Unbroken: A World War II Story of Survival, Resilience, and Redemption",
                                    "1": "Unbroken: A World War II Story of Survival, Resilience, and Redemption",
                                    "2": "4.4"
                                },
                                {
                                    "0": "Green Eggs and Ham",
                                    "1": "Green Eggs and Ham",
                                    "2": "4.29"
                                },
                                {
                                    "0": "The Stand",
                                    "1": "The Stand",
                                    "2": "4.34"
                                },
                                {
                                    "0": "Matilda",
                                    "1": "Matilda",
                                    "2": "4.29"
                                },
                                {
                                    "0": "Watchmen",
                                    "1": "Watchmen",
                                    "2": "4.35"
                                },
                                {
                                    "0": "Fight Club",
                                    "1": "Fight Club",
                                    "2": "4.2"
                                },
                                {
                                    "0": "Twilight: The Complete Illustrated Movie Companion",
                                    "1": "Twilight: The Complete Illustrated Movie Companion",
                                    "2": "4.23"
                                },
                                {
                                    "0": "East of Eden",
                                    "1": "East of Eden  ",
                                    "2": "4.35"
                                },
                                {
                                    "0": "Wonder",
                                    "1": "Wonder",
                                    "2": "4.43"
                                },
                                {
                                    "0": "Big Little Lies",
                                    "1": "Big Little Lies",
                                    "2": "4.2"
                                },
                                {
                                    "0": "A Tree Grows in Brooklyn",
                                    "1": "A Tree Grows In Brooklyn ",
                                    "2": "4.24"
                                }
                            ]
                        },
                        "text/html": [
                            "<table>",
                            "<tr><th>title</th><th>original_title</th><th>average_rating</th></tr>",
                            "<tr><td>To Kill a Mockingbird</td><td>To Kill a Mockingbird</td><td>4.25</td></tr>",
                            "<tr><td>The Fault in Our Stars</td><td>The Fault in Our Stars</td><td>4.26</td></tr>",
                            "<tr><td>Pride and Prejudice</td><td>Pride and Prejudice</td><td>4.24</td></tr>",
                            "<tr><td>The Kite Runner</td><td>The Kite Runner </td><td>4.26</td></tr>",
                            "<tr><td>The Help</td><td>The Help</td><td>4.45</td></tr>",
                            "<tr><td>The Book Thief</td><td>The Book Thief</td><td>4.36</td></tr>",
                            "<tr><td>Gone with the Wind</td><td>Gone with the Wind</td><td>4.28</td></tr>",
                            "<tr><td>A Thousand Splendid Suns</td><td>A Thousand Splendid Suns</td><td>4.34</td></tr>",
                            "<tr><td>The Perks of Being a Wallflower</td><td>The Perks of Being a Wallflower</td><td>4.21</td></tr>",
                            "<tr><td>The Glass Castle</td><td>The Glass Castle</td><td>4.24</td></tr>",
                            "<tr><td>The Giving Tree</td><td>The Giving Tree</td><td>4.38</td></tr>",
                            "<tr><td>The Princess Bride </td><td>The Princess Bride</td><td>4.25</td></tr>",
                            "<tr><td>Where the Wild Things Are</td><td>Where the Wild Things Are</td><td>4.22</td></tr>",
                            "<tr><td>The Martian</td><td>The Martian</td><td>4.39</td></tr>",
                            "<tr><td>Unbroken: A World War II Story of Survival, Resilience, and Redemption</td><td>Unbroken: A World War II Story of Survival, Resilience, and Redemption</td><td>4.4</td></tr>",
                            "<tr><td>Green Eggs and Ham</td><td>Green Eggs and Ham</td><td>4.29</td></tr>",
                            "<tr><td>The Stand</td><td>The Stand</td><td>4.34</td></tr>",
                            "<tr><td>Matilda</td><td>Matilda</td><td>4.29</td></tr>",
                            "<tr><td>Watchmen</td><td>Watchmen</td><td>4.35</td></tr>",
                            "<tr><td>Fight Club</td><td>Fight Club</td><td>4.2</td></tr>",
                            "<tr><td>Twilight: The Complete Illustrated Movie Companion</td><td>Twilight: The Complete Illustrated Movie Companion</td><td>4.23</td></tr>",
                            "<tr><td>East of Eden</td><td>East of Eden  </td><td>4.35</td></tr>",
                            "<tr><td>Wonder</td><td>Wonder</td><td>4.43</td></tr>",
                            "<tr><td>Big Little Lies</td><td>Big Little Lies</td><td>4.2</td></tr>",
                            "<tr><td>A Tree Grows in Brooklyn</td><td>A Tree Grows In Brooklyn </td><td>4.24</td></tr>",
                            "</table>"
                        ]
                    }
                }
            ],
            "execution_count": 12
        },
        {
            "cell_type": "markdown",
            "source": [
                "## QUESTION 4:  Thisbe\n",
                "\n",
                "Thisbe is planning to make a long-term display of popular books that she will update monthly, reflecting different time periods.  She wants to make it reader-centric by including titles that readers have averagely rated higher than the book's actual average rating. \n",
                "\n",
                "**Part A:**   Write a query that compares the publication time with average reader ratings.\n",
                "\n",
                "**Part B:**  She wants the list ordered by year, then the book title"
            ],
            "metadata": {
                "azdata_cell_guid": "c3cb4fa8-802c-4130-8740-2adf20ec6a15"
            },
            "attachments": {}
        },
        {
            "cell_type": "code",
            "source": [
                "-- Code here:\r\n",
                "\r\n",
                "USE BooksDB\r\n",
                "SELECT Top 25\r\n",
                "    AVG(rating) AS average_user_rating, book_id\r\n",
                "FROM ratings\r\n",
                "GROUP BY book_id\r\n",
                "ORDER BY average_user_rating DESC"
            ],
            "metadata": {
                "azdata_cell_guid": "164e0a22-349f-45ed-afe8-0753d5a8c6fc",
                "tags": [],
                "language": "sql"
            },
            "outputs": [
                {
                    "output_type": "display_data",
                    "data": {
                        "text/html": "(25 rows affected)"
                    },
                    "metadata": {}
                },
                {
                    "output_type": "display_data",
                    "data": {
                        "text/html": "Total execution time: 00:00:00.173"
                    },
                    "metadata": {}
                },
                {
                    "output_type": "execute_result",
                    "metadata": {},
                    "execution_count": 14,
                    "data": {
                        "application/vnd.dataresource+json": {
                            "schema": {
                                "fields": [
                                    {
                                        "name": "average_user_rating"
                                    },
                                    {
                                        "name": "book_id"
                                    }
                                ]
                            },
                            "data": [
                                {
                                    "0": "4",
                                    "1": "459"
                                },
                                {
                                    "0": "4",
                                    "1": "1267"
                                },
                                {
                                    "0": "4",
                                    "1": "374"
                                },
                                {
                                    "0": "4",
                                    "1": "1326"
                                },
                                {
                                    "0": "4",
                                    "1": "544"
                                },
                                {
                                    "0": "4",
                                    "1": "1607"
                                },
                                {
                                    "0": "4",
                                    "1": "409"
                                },
                                {
                                    "0": "4",
                                    "1": "1530"
                                },
                                {
                                    "0": "4",
                                    "1": "272"
                                },
                                {
                                    "0": "4",
                                    "1": "1394"
                                },
                                {
                                    "0": "4",
                                    "1": "612"
                                },
                                {
                                    "0": "4",
                                    "1": "1683"
                                },
                                {
                                    "0": "4",
                                    "1": "1632"
                                },
                                {
                                    "0": "4",
                                    "1": "1717"
                                },
                                {
                                    "0": "4",
                                    "1": "442"
                                },
                                {
                                    "0": "4",
                                    "1": "1904"
                                },
                                {
                                    "0": "4",
                                    "1": "143"
                                },
                                {
                                    "0": "4",
                                    "1": "1275"
                                },
                                {
                                    "0": "4",
                                    "1": "1274"
                                },
                                {
                                    "0": "4",
                                    "1": "1514"
                                },
                                {
                                    "0": "4",
                                    "1": "93"
                                },
                                {
                                    "0": "4",
                                    "1": "1496"
                                },
                                {
                                    "0": "4",
                                    "1": "1462"
                                },
                                {
                                    "0": "4",
                                    "1": "1836"
                                },
                                {
                                    "0": "4",
                                    "1": "1597"
                                }
                            ]
                        },
                        "text/html": [
                            "<table>",
                            "<tr><th>average_user_rating</th><th>book_id</th></tr>",
                            "<tr><td>4</td><td>459</td></tr>",
                            "<tr><td>4</td><td>1267</td></tr>",
                            "<tr><td>4</td><td>374</td></tr>",
                            "<tr><td>4</td><td>1326</td></tr>",
                            "<tr><td>4</td><td>544</td></tr>",
                            "<tr><td>4</td><td>1607</td></tr>",
                            "<tr><td>4</td><td>409</td></tr>",
                            "<tr><td>4</td><td>1530</td></tr>",
                            "<tr><td>4</td><td>272</td></tr>",
                            "<tr><td>4</td><td>1394</td></tr>",
                            "<tr><td>4</td><td>612</td></tr>",
                            "<tr><td>4</td><td>1683</td></tr>",
                            "<tr><td>4</td><td>1632</td></tr>",
                            "<tr><td>4</td><td>1717</td></tr>",
                            "<tr><td>4</td><td>442</td></tr>",
                            "<tr><td>4</td><td>1904</td></tr>",
                            "<tr><td>4</td><td>143</td></tr>",
                            "<tr><td>4</td><td>1275</td></tr>",
                            "<tr><td>4</td><td>1274</td></tr>",
                            "<tr><td>4</td><td>1514</td></tr>",
                            "<tr><td>4</td><td>93</td></tr>",
                            "<tr><td>4</td><td>1496</td></tr>",
                            "<tr><td>4</td><td>1462</td></tr>",
                            "<tr><td>4</td><td>1836</td></tr>",
                            "<tr><td>4</td><td>1597</td></tr>",
                            "</table>"
                        ]
                    }
                }
            ],
            "execution_count": 14
        }
    ]
}